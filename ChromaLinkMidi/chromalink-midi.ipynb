{
 "cells": [
  {
   "cell_type": "markdown",
   "metadata": {},
   "source": [
    "# Chromalink Midi\n",
    "A Python script to control ChromaLink lights such as Yeelight 1S to make a lightshow in sync with the beats of the Mixxx DJ software.\n",
    "\n",
    "By Stephen Karl Larroque\n",
    "\n",
    "License: MIT (opensource)\n",
    "\n",
    "v0.1\n",
    "\n",
    "Tested on Windows 10 with Python 3"
   ]
  },
  {
   "cell_type": "code",
   "execution_count": 1,
   "metadata": {},
   "outputs": [],
   "source": [
    "from ChromaPython import ChromaApp, ChromaAppInfo, ChromaColor, Colors, ChromaGrid # from https://github.com/chroma-sdk/chroma-python\n",
    "# TODO: see https://github.com/ignis-sec/better-chroma-python and https://github.com/d-rez/chroma-python/commit/f905e7edcb9fa5dc5f423d849f80350c05ce0616 -- but those don't support chromalink... but could merge the changes there...\n",
    "# You need to install and launch Yeelight Chroma Connector and Razer Synapse first, and enable this app in Razer Connector after running this cell at least once.\n",
    "from time import sleep\n",
    "\n",
    "Info = ChromaAppInfo()\n",
    "Info.DeveloperName = 'Stephen Larroque'\n",
    "Info.DeveloperContact = 'na'\n",
    "Info.Category = 'application'\n",
    "Info.SupportedDevices = ['chromalink']\n",
    "Info.Description = 'ChromaLink devices controlled by virtual midi.'\n",
    "Info.Title = 'ChromaLink Midi'\n",
    "\n",
    "App = ChromaApp(Info)\n",
    "\n",
    "sleep(2)"
   ]
  },
  {
   "cell_type": "code",
   "execution_count": 2,
   "metadata": {},
   "outputs": [
    {
     "name": "stdout",
     "output_type": "stream",
     "text": [
      "TESTING CHROMALINK DEVICES\n",
      "(True, 0)\n",
      "(True, 0)\n",
      "(True, 0)\n",
      "(True, 0)\n",
      "(True, 0)\n",
      "(True, 0)\n",
      "(True, 0)\n",
      "(True, 0)\n",
      "(True, 0)\n",
      "(True, 0)\n"
     ]
    }
   ],
   "source": [
    "# Do not forget to launch both the Yeelight Chroma Connector AND Razer Synapse (and activate this app in the Connector tab)\n",
    "colors_list = [Colors.RED, Colors.BLUE, Colors.GREEN, Colors.MAGENTA] # most musics are 4 beats so try to keep a multiple of 4 in the number of colors\n",
    "print('TESTING CHROMALINK DEVICES')\n",
    "for i in range(10):\n",
    "    print(App.ChromaLink.setStatic(colors_list[i % len(colors_list)]))\n",
    "    sleep(0.2)"
   ]
  },
  {
   "cell_type": "code",
   "execution_count": 3,
   "metadata": {},
   "outputs": [],
   "source": [
    "# Alternative to Chroma: directly control yeelight devices using python-yeelight: https://yeelight.readthedocs.io/en/latest/"
   ]
  },
  {
   "cell_type": "code",
   "execution_count": 4,
   "metadata": {},
   "outputs": [
    {
     "name": "stdout",
     "output_type": "stream",
     "text": [
      "['LoopBe Internal MIDI 0', 'TouchOSC Bridge 1', 'loopMIDI Port OSC 2', 'loopMIDI Port Light 3', 'loopMIDI Port AutoDJ 4']\n",
      "Port opened with success!\n"
     ]
    }
   ],
   "source": [
    "# Please install python-rtmidi and mido using pip install first! Do not try to pip install rtmidi, it is unnecessary!\n",
    "# Then modify the midi loopback channel name below to what you set in loopmidi or loopbe1\n",
    "\n",
    "# Open midi port (the with statement does not work well in Jupyter notebook, the kernel freezes on close...)\n",
    "# But we need to open the port only once, otherwise we will get an error\n",
    "import mido\n",
    "import time\n",
    "\n",
    "# First create a virtual port on Windows 10 using loopMidi or LoopBe1. On Linux and MacOSX, the virtual port can be created here directly. https://spotlightkid.github.io/python-rtmidi/rtmidi.html#rtmidi.MidiIn.open_virtual_port\n",
    "# Note: prefer to use a different software for each port, eg, if you use Harmonic Mixing controller mapping for AutoDJ, use it via loopMidi, and set the Midi for light controller on LoopBe1. Otherwise, for some reasons, loopMidi will mix up signals between different ports (or maybe it's Mixxx...)\n",
    "# Secondly, activate the port in Mixxx, by loading the MIDI for light controller mapping for the virtual port.\n",
    "# Then, launch this script.\n",
    "# Documentation: https://github.com/mixxxdj/mixxx/wiki/midi_clock_output\n",
    "\n",
    "print(mido.get_input_names())\n",
    "\n",
    "port = \"loopMIDI Port Light 3\"\n",
    "\n",
    "inport = mido.open_input(port)\n",
    "print(\"Port opened with success!\")"
   ]
  },
  {
   "cell_type": "code",
   "execution_count": 7,
   "metadata": {},
   "outputs": [],
   "source": [
    "# Parameters\n",
    "lightshow_duration = 600 # in seconds\n",
    "debug = False"
   ]
  },
  {
   "cell_type": "code",
   "execution_count": 8,
   "metadata": {},
   "outputs": [
    {
     "name": "stdout",
     "output_type": "stream",
     "text": [
      "Restart notebook to stop the loop or if no message gets printed.\n",
      "\n",
      "Note: don't worry if you see the lights flashing too quickly at first, it will start getting in rhythm after a few seconds.\n"
     ]
    }
   ],
   "source": [
    "print(\"Restart notebook to stop the loop or if no message gets printed.\\n\")\n",
    "print(\"Note: don't worry if you see the lights flashing too quickly at first, it will start getting in rhythm after a few seconds.\")\n",
    "\n",
    "#with mido.open_input(port, virtual=True) as inport:\n",
    "end_of_loop = time.time() + lightshow_duration  # work for x seconds then stop (otherwise we get an infinite loop that can't be interrupted in Jupyter)\n",
    "\n",
    "try:\n",
    "    while time.time() < end_of_loop :\n",
    "        msg = inport.receive()\n",
    "        #print(msg)\n",
    "        if hasattr(msg, 'note') and msg.note == 50 and msg.type == 'note_on' and msg.velocity == 100:\n",
    "            i += 1\n",
    "            i = i % len(colors_list) # to avoid overflow...\n",
    "            if debug:\n",
    "                print(App.ChromaLink.setStatic(colors_list[i % len(colors_list)]))\n",
    "                print(\"Beat!\")\n",
    "                print(msg)\n",
    "            else:\n",
    "                App.ChromaLink.setStatic(colors_list[i % len(colors_list)])\n",
    "except KeyboardInterrupt:\n",
    "    pass"
   ]
  },
  {
   "cell_type": "markdown",
   "metadata": {},
   "source": [
    "---------------\n",
    "DEBUG"
   ]
  },
  {
   "cell_type": "code",
   "execution_count": null,
   "metadata": {},
   "outputs": [],
   "source": [
    "port = \"LoopBe Internal MIDI\" # Prompts user for MIDI input port, unless a valid port number or name\n",
    "                                                  # is given as the first argument on the command line.\n",
    "                                                  # API backend defaults to ALSA on Linux."
   ]
  },
  {
   "cell_type": "code",
   "execution_count": null,
   "metadata": {},
   "outputs": [],
   "source": [
    "# https://github.com/RaddedMC/ChromaMidi\n",
    "import math\n",
    "import sys\n",
    "from rtmidi.midiutil import open_midiinput\n",
    "\n",
    "#port = sys.argv[1] if len(sys.argv) > 1 else None # Prompts user for MIDI input port, unless a valid port number or name\n",
    "                                                  # is given as the first argument on the command line.\n",
    "                                                  # API backend defaults to ALSA on Linux.\n",
    "midiin, port_name = open_midiinput(port)\n",
    "print(\"Midi opened on device \" + str(port_name) + \".\")\n",
    "print(\"---------------------------------------\")\n",
    "\n",
    "while True:\n",
    "    msg = midiin.get_message()\n",
    "    \n",
    "    if msg:\n",
    "        led_num = msg[0][1]-48\n",
    "        colors = (0,0,0)\n",
    "        if msg[0][0] == 144:\n",
    "            # ON\n",
    "            velocity = msg[0][2]\n",
    "            print(\"%r: Light %i set to velocity %s\" % (msg, led_num, velocity))\n",
    "           # setALight(abs(led_num), colors[0], colors[1], colors[2])\n",
    "        elif msg[0][0] == 128:\n",
    "            # OFF\n",
    "            print(\"%r: Turning off light %i\" % (msg, led_num))\n",
    "            #setALight(abs(led_num), colors[0], colors[1], colors[2])"
   ]
  },
  {
   "cell_type": "code",
   "execution_count": null,
   "metadata": {},
   "outputs": [],
   "source": [
    "class CleanExit(object):\n",
    "    def __enter__(self):\n",
    "        return self\n",
    "    def __exit__(self, exc_type, exc_value, exc_tb):\n",
    "        if exc_type is KeyboardInterrupt:\n",
    "            return True\n",
    "        else:\n",
    "            return exc_type is None\n",
    "\n",
    "def signal_handler(signal, frame):\n",
    "    print('You pressed Ctrl+C!')\n",
    "    raise KeyboardInterrupt"
   ]
  },
  {
   "cell_type": "code",
   "execution_count": null,
   "metadata": {},
   "outputs": [],
   "source": [
    "import signal\n",
    "\n",
    "import mido\n",
    "\n",
    "print(mido.get_input_names())\n",
    "\n",
    "port = \"loopMIDI-lights 1\"\n",
    "\n",
    "print(\"Restart notebook to stop the loop.\")\n",
    "\n",
    "#with mido.open_input(port, virtual=True) as inport:\n",
    "with mido.open_input(port) as inport:\n",
    "    try:\n",
    "        while True:\n",
    "            msg = inport.receive()\n",
    "            print(msg)\n",
    "    except KeyboardInterrupt:\n",
    "        pass"
   ]
  },
  {
   "cell_type": "code",
   "execution_count": null,
   "metadata": {},
   "outputs": [],
   "source": [
    "inport = mido.open_input()"
   ]
  },
  {
   "cell_type": "code",
   "execution_count": null,
   "metadata": {},
   "outputs": [],
   "source": [
    "mido.get_input_names()"
   ]
  }
 ],
 "metadata": {
  "kernelspec": {
   "display_name": "Python 3",
   "language": "python",
   "name": "python3"
  },
  "language_info": {
   "codemirror_mode": {
    "name": "ipython",
    "version": 3
   },
   "file_extension": ".py",
   "mimetype": "text/x-python",
   "name": "python",
   "nbconvert_exporter": "python",
   "pygments_lexer": "ipython3",
   "version": "3.8.3"
  }
 },
 "nbformat": 4,
 "nbformat_minor": 4
}
